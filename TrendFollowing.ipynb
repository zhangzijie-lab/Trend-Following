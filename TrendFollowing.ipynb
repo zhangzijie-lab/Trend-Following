{
 "cells": [
  {
   "cell_type": "code",
   "execution_count": 1,
   "metadata": {},
   "outputs": [],
   "source": [
    "import sys\n",
    "import os\n",
    "import pandas as pd\n",
    "import numpy as np\n",
    "import matplotlib.pyplot as plt\n",
    "import yfinance as yf\n",
    "from datetime import datetime\n",
    "from datetime import timedelta\n",
    "# import measures"
   ]
  },
  {
   "cell_type": "code",
   "execution_count": 56,
   "metadata": {},
   "outputs": [],
   "source": [
    "sp500 = yf.Ticker('^GSPC')\n",
    "# start = '2000-01-01'\n",
    "start = '1972-01-01'\n",
    "end = '2021-01-01'\n",
    "# end = '2000-01-01'"
   ]
  },
  {
   "cell_type": "code",
   "execution_count": 57,
   "metadata": {},
   "outputs": [],
   "source": [
    "sp500_p = sp500.history(start=start, end=end)"
   ]
  },
  {
   "cell_type": "code",
   "execution_count": 58,
   "metadata": {},
   "outputs": [],
   "source": [
    "threshold_bull = 0.2\n",
    "threshold_bear = 0.2"
   ]
  },
  {
   "cell_type": "code",
   "execution_count": 27,
   "metadata": {},
   "outputs": [],
   "source": [
    "# def getTrend(df, threshold_bull, threshold_bear):\n",
    "#     df = pd.DataFrame(df)\n",
    "#     t0 = t_trough = t_peak = 0\n",
    "#     period_max = df.iloc[t0].values[0]\n",
    "#     period_min = df.iloc[t0].values[0]\n",
    "#     bull = []\n",
    "#     bear = []\n",
    "#     indicator = True\n",
    "# #     global t_trough\n",
    "# #     global t_peak\n",
    "    \n",
    "#     for i in range(df.shape[0]):\n",
    "\n",
    "#         cur = df.iloc[i].values[0]\n",
    "\n",
    "#         if indicator:\n",
    "#             if cur > period_max:\n",
    "#                 period_max = cur\n",
    "#                 t_peak = i\n",
    "\n",
    "#             elif (period_max - cur)/period_max > threshold_bear:\n",
    "#                 bull.append((t0, t_peak))\n",
    "#                 t0 = t_peak\n",
    "#         #         period_max = sp500_p.iloc[t_peak]\n",
    "#                 period_min = cur\n",
    "#                 indicator = False\n",
    "#         else:\n",
    "#             if cur < period_min:\n",
    "#                 period_min = cur\n",
    "#                 t_trough = i\n",
    "\n",
    "#             elif (cur - period_min)/period_min > threshold_bull:\n",
    "#                 bear.append((t0, t_trough))\n",
    "#                 t0 = t_trough\n",
    "#                 period_max = cur\n",
    "#         #         period_min = sp500_p.iloc[t_trough]\n",
    "#                 indicator = True\n",
    "\n",
    "#     df['class'] = 1\n",
    "\n",
    "#     for x in bear:\n",
    "#         df.loc[df.index[x[0]:x[1]], 'class'] = 0\n",
    "        \n",
    "#     return df, bull, bear"
   ]
  },
  {
   "cell_type": "code",
   "execution_count": 228,
   "metadata": {},
   "outputs": [],
   "source": [
    "def maxDrawdown(df):\n",
    "    cummax = df.cummax()\n",
    "    drawdown = cummax - df\n",
    "    \n",
    "    return drawdown"
   ]
  },
  {
   "cell_type": "code",
   "execution_count": 233,
   "metadata": {},
   "outputs": [],
   "source": [
    "def maxRaise(df):\n",
    "    cummin = df.cummin()\n",
    "    raiseUp = df - cummin\n",
    "    \n",
    "    return raiseUp"
   ]
  },
  {
   "cell_type": "code",
   "execution_count": 240,
   "metadata": {},
   "outputs": [
    {
     "data": {
      "text/plain": [
       "<matplotlib.legend.Legend at 0x1c1d8f87c70>"
      ]
     },
     "execution_count": 240,
     "metadata": {},
     "output_type": "execute_result"
    },
    {
     "data": {
      "image/png": "[encoded data removed]",
      "text/plain": [
       "<Figure size 432x288 with 1 Axes>"
      ]
     },
     "metadata": {
      "needs_background": "light"
     },
     "output_type": "display_data"
    }
   ],
   "source": [
    "plt.figure()\n",
    "plt.plot(maxRaise(rets['1980'].add(1).cumprod()), label='up')\n",
    "plt.plot(maxDrawdown(rets['1980'].add(1).cumprod()), label='down')\n",
    "plt.legend()"
   ]
  },
  {
   "cell_type": "code",
   "execution_count": 245,
   "metadata": {},
   "outputs": [
    {
     "data": {
      "text/plain": [
       "0.16467160563688693"
      ]
     },
     "execution_count": 245,
     "metadata": {},
     "output_type": "execute_result"
    }
   ],
   "source": [
    "rets['1980'].std()*np.sqrt(252)"
   ]
  },
  {
   "cell_type": "code",
   "execution_count": 235,
   "metadata": {},
   "outputs": [],
   "source": [
    "raiseUp = maxRaise(rets['1980'].add(1).cumprod())\n",
    "drawDown = maxDrawdown(rets['1980'].add(1).cumprod())"
   ]
  },
  {
   "cell_type": "code",
   "execution_count": 239,
   "metadata": {},
   "outputs": [
    {
     "data": {
      "text/plain": [
       "137"
      ]
     },
     "execution_count": 239,
     "metadata": {},
     "output_type": "execute_result"
    }
   ],
   "source": [
    "np.where(raiseUp>threshold_bear)[0][0]"
   ]
  },
  {
   "cell_type": "code",
   "execution_count": 246,
   "metadata": {},
   "outputs": [],
   "source": [
    "df = rets['1980'].add(1).cumprod()"
   ]
  },
  {
   "cell_type": "code",
   "execution_count": 249,
   "metadata": {},
   "outputs": [
    {
     "data": {
      "text/plain": [
       "0.9795968564935512"
      ]
     },
     "execution_count": 249,
     "metadata": {},
     "output_type": "execute_result"
    }
   ],
   "source": [
    "df[0]"
   ]
  },
  {
   "cell_type": "code",
   "execution_count": 292,
   "metadata": {},
   "outputs": [
    {
     "data": {
      "text/plain": [
       "[<matplotlib.lines.Line2D at 0x1c1d8ed4c40>]"
      ]
     },
     "execution_count": 292,
     "metadata": {},
     "output_type": "execute_result"
    },
    {
     "data": {
      "image/png": "[encoded data removed]",
      "text/plain": [
       "<Figure size 432x288 with 1 Axes>"
      ]
     },
     "metadata": {
      "needs_background": "light"
     },
     "output_type": "display_data"
    }
   ],
   "source": [
    "plt.plot(cumRet)\n",
    "plt.plot(cumRet.iloc[:416], 'r')"
   ]
  },
  {
   "cell_type": "code",
   "execution_count": null,
   "metadata": {},
   "outputs": [],
   "source": []
  },
  {
   "cell_type": "code",
   "execution_count": 293,
   "metadata": {},
   "outputs": [],
   "source": [
    "def getTrend(df):\n",
    "    df = pd.Series(df)\n",
    "    vol = annVol(df)\n",
    "    cumRet = df.add(1).cumprod()\n",
    "    \n",
    "    bull = []\n",
    "    bear = []\n",
    "    pre_max, idxmax = cumRet[0], 0\n",
    "    pre_min, idxmin = cumRet[0], 0\n",
    "    i0 = 0\n",
    "    indicator = 1 if cumRet[1] > cumRet[0] else 0\n",
    "    \n",
    "    for i in range(cumRet.shape[0]):\n",
    "        \n",
    "        cur = cumRet[i]\n",
    "        if cur > pre_max:\n",
    "            pre_max = cur\n",
    "            idxmax = i\n",
    "        elif cur < pre_min:\n",
    "            pre_min = cur\n",
    "            idxmin = i\n",
    "        \n",
    "        drawdown = (pre_max - cur) / pre_max\n",
    "        raiseUp = (cur - pre_min) / pre_min\n",
    "\n",
    "        if (drawdown > vol) and (indicator == 1):\n",
    "            bull.append((i0, idxmax))\n",
    "            i0 = idxmax\n",
    "            pre_max = cur\n",
    "            pre_min = cur\n",
    "            idxmin = i\n",
    "            idxmax = i\n",
    "            indicator = 0\n",
    "        elif (raiseUp > vol) and (indicator == 0):\n",
    "            bear.append((i0, idxmin))\n",
    "            i0 = idxmin\n",
    "            pre_max = cur\n",
    "            pre_min = cur\n",
    "            idxmin = i\n",
    "            idxmax = i\n",
    "            indicator = 1\n",
    "        \n",
    "    \n",
    "    return bull, bear"
   ]
  },
  {
   "cell_type": "code",
   "execution_count": 280,
   "metadata": {},
   "outputs": [],
   "source": [
    "df = rets['1986':'1996'].copy()"
   ]
  },
  {
   "cell_type": "code",
   "execution_count": 281,
   "metadata": {},
   "outputs": [],
   "source": [
    "df = pd.Series(df)\n",
    "vol = annVol(df)\n",
    "cumRet = df.add(1).cumprod()"
   ]
  },
  {
   "cell_type": "code",
   "execution_count": 282,
   "metadata": {},
   "outputs": [
    {
     "data": {
      "text/plain": [
       "0.15789383542247287"
      ]
     },
     "execution_count": 282,
     "metadata": {},
     "output_type": "execute_result"
    }
   ],
   "source": [
    "vol"
   ]
  },
  {
   "cell_type": "code",
   "execution_count": 294,
   "metadata": {},
   "outputs": [],
   "source": [
    "bull, bear = getTrend(rets['1986':'1996'])"
   ]
  },
  {
   "cell_type": "code",
   "execution_count": 295,
   "metadata": {},
   "outputs": [
    {
     "data": {
      "text/plain": [
       "([(0, 416), (487, 1146)], [(416, 487), (1146, 1208)])"
      ]
     },
     "execution_count": 295,
     "metadata": {},
     "output_type": "execute_result"
    }
   ],
   "source": [
    "bull, bear"
   ]
  },
  {
   "cell_type": "code",
   "execution_count": 260,
   "metadata": {},
   "outputs": [
    {
     "data": {
      "text/plain": [
       "-0.008031038298882175"
      ]
     },
     "execution_count": 260,
     "metadata": {},
     "output_type": "execute_result"
    }
   ],
   "source": [
    "pd.Series(rets['1986'])[0]"
   ]
  },
  {
   "cell_type": "code",
   "execution_count": 6,
   "metadata": {},
   "outputs": [],
   "source": [
    "Tclass, bull, bear = getTrend(pd.DataFrame(sp500_p['Close']), threshold_bull, threshold_bull)"
   ]
  },
  {
   "cell_type": "code",
   "execution_count": 7,
   "metadata": {},
   "outputs": [
    {
     "data": {
      "text/html": [
       "<div>\n",
       "<style scoped>\n",
       "    .dataframe tbody tr th:only-of-type {\n",
       "        vertical-align: middle;\n",
       "    }\n",
       "\n",
       "    .dataframe tbody tr th {\n",
       "        vertical-align: top;\n",
       "    }\n",
       "\n",
       "    .dataframe thead th {\n",
       "        text-align: right;\n",
       "    }\n",
       "</style>\n",
       "<table border=\"1\" class=\"dataframe\">\n",
       "  <thead>\n",
       "    <tr style=\"text-align: right;\">\n",
       "      <th></th>\n",
       "      <th>Close</th>\n",
       "      <th>class</th>\n",
       "    </tr>\n",
       "    <tr>\n",
       "      <th>Date</th>\n",
       "      <th></th>\n",
       "      <th></th>\n",
       "    </tr>\n",
       "  </thead>\n",
       "  <tbody>\n",
       "    <tr>\n",
       "      <th>1971-12-31</th>\n",
       "      <td>102.089996</td>\n",
       "      <td>1</td>\n",
       "    </tr>\n",
       "    <tr>\n",
       "      <th>1972-01-03</th>\n",
       "      <td>101.669998</td>\n",
       "      <td>1</td>\n",
       "    </tr>\n",
       "    <tr>\n",
       "      <th>1972-01-04</th>\n",
       "      <td>102.089996</td>\n",
       "      <td>1</td>\n",
       "    </tr>\n",
       "    <tr>\n",
       "      <th>1972-01-05</th>\n",
       "      <td>103.059998</td>\n",
       "      <td>1</td>\n",
       "    </tr>\n",
       "    <tr>\n",
       "      <th>1972-01-06</th>\n",
       "      <td>103.510002</td>\n",
       "      <td>1</td>\n",
       "    </tr>\n",
       "    <tr>\n",
       "      <th>...</th>\n",
       "      <td>...</td>\n",
       "      <td>...</td>\n",
       "    </tr>\n",
       "    <tr>\n",
       "      <th>2020-12-24</th>\n",
       "      <td>3703.060059</td>\n",
       "      <td>1</td>\n",
       "    </tr>\n",
       "    <tr>\n",
       "      <th>2020-12-28</th>\n",
       "      <td>3735.360107</td>\n",
       "      <td>1</td>\n",
       "    </tr>\n",
       "    <tr>\n",
       "      <th>2020-12-29</th>\n",
       "      <td>3727.040039</td>\n",
       "      <td>1</td>\n",
       "    </tr>\n",
       "    <tr>\n",
       "      <th>2020-12-30</th>\n",
       "      <td>3732.040039</td>\n",
       "      <td>1</td>\n",
       "    </tr>\n",
       "    <tr>\n",
       "      <th>2020-12-31</th>\n",
       "      <td>3756.070068</td>\n",
       "      <td>1</td>\n",
       "    </tr>\n",
       "  </tbody>\n",
       "</table>\n",
       "<p>12360 rows × 2 columns</p>\n",
       "</div>"
      ],
      "text/plain": [
       "                  Close  class\n",
       "Date                          \n",
       "1971-12-31   102.089996      1\n",
       "1972-01-03   101.669998      1\n",
       "1972-01-04   102.089996      1\n",
       "1972-01-05   103.059998      1\n",
       "1972-01-06   103.510002      1\n",
       "...                 ...    ...\n",
       "2020-12-24  3703.060059      1\n",
       "2020-12-28  3735.360107      1\n",
       "2020-12-29  3727.040039      1\n",
       "2020-12-30  3732.040039      1\n",
       "2020-12-31  3756.070068      1\n",
       "\n",
       "[12360 rows x 2 columns]"
      ]
     },
     "execution_count": 7,
     "metadata": {},
     "output_type": "execute_result"
    }
   ],
   "source": [
    "Tclass"
   ]
  },
  {
   "cell_type": "code",
   "execution_count": 8,
   "metadata": {},
   "outputs": [
    {
     "data": {
      "image/png": "[encoded data removed]",
      "text/plain": [
       "<Figure size 864x576 with 1 Axes>"
      ]
     },
     "metadata": {
      "needs_background": "light"
     },
     "output_type": "display_data"
    }
   ],
   "source": [
    "plt.figure(figsize=(12, 8))\n",
    "plt.plot(sp500_p['Close'], 'r')\n",
    "for x in bear:\n",
    "    plt.plot(sp500_p['Close'].iloc[x[0]:x[1]], 'g')\n",
    "    \n",
    "plt.xlabel('Date', fontsize=16)\n",
    "plt.ylabel('S&P500 Index', fontsize=16)\n",
    "plt.title('Market States', fontsize=22)\n",
    "plt.legend(['Bull', 'Bear'], fontsize=16)\n",
    "plt.savefig('BullBear.png')"
   ]
  },
  {
   "cell_type": "code",
   "execution_count": 296,
   "metadata": {},
   "outputs": [
    {
     "data": {
      "image/png": "[encoded data removed]",
      "text/plain": [
       "<Figure size 864x576 with 1 Axes>"
      ]
     },
     "metadata": {
      "needs_background": "light"
     },
     "output_type": "display_data"
    }
   ],
   "source": [
    "plt.figure(figsize=(12, 8))\n",
    "plt.plot(sp500_p.loc['1986':'1996', 'Close'], 'r')\n",
    "for x in bear:\n",
    "    plt.plot(sp500_p.loc['1986':'1996', 'Close'].iloc[x[0]:x[1]], 'g')\n",
    "    \n",
    "plt.xlabel('Date', fontsize=16)\n",
    "plt.ylabel('S&P500 Index', fontsize=16)\n",
    "plt.title('Market States', fontsize=22)\n",
    "plt.legend(['Bull', 'Bear'], fontsize=16)\n",
    "plt.savefig('BullBear.png')"
   ]
  },
  {
   "cell_type": "code",
   "execution_count": 227,
   "metadata": {},
   "outputs": [
    {
     "data": {
      "text/plain": [
       "[(416, 487), (1146, 487)]"
      ]
     },
     "execution_count": 227,
     "metadata": {},
     "output_type": "execute_result"
    }
   ],
   "source": [
    "bear"
   ]
  },
  {
   "cell_type": "code",
   "execution_count": 9,
   "metadata": {},
   "outputs": [],
   "source": [
    "history = 252*10"
   ]
  },
  {
   "cell_type": "code",
   "execution_count": 10,
   "metadata": {},
   "outputs": [
    {
     "data": {
      "text/plain": [
       "([(0, 259),\n",
       "  (695, 2250),\n",
       "  (2680, 3953),\n",
       "  (4024, 7133),\n",
       "  (7506, 7578),\n",
       "  (7715, 9028),\n",
       "  (9311, 9341),\n",
       "  (9383, 12139)],\n",
       " [(259, 695),\n",
       "  (2250, 2680),\n",
       "  (3953, 4024),\n",
       "  (7133, 7506),\n",
       "  (7578, 7715),\n",
       "  (9028, 9311),\n",
       "  (9341, 9383),\n",
       "  (12139, 12162)])"
      ]
     },
     "execution_count": 10,
     "metadata": {},
     "output_type": "execute_result"
    }
   ],
   "source": [
    "bull, bear"
   ]
  },
  {
   "cell_type": "code",
   "execution_count": 13,
   "metadata": {},
   "outputs": [],
   "source": [
    "Tbull = np.array(list(map(lambda x: x[1]-x[0], bull)))\n",
    "Tbear = np.array(list(map(lambda x: x[1]-x[0], bear)))\n",
    "\n",
    "# Tbull = Tbull[Tbull>0]/252\n",
    "# Tbear = Tbear[Tbear>0]/252"
   ]
  },
  {
   "cell_type": "code",
   "execution_count": 14,
   "metadata": {},
   "outputs": [
    {
     "data": {
      "text/plain": [
       "array([ 259, 1555, 1273, 3109,   72, 1313,   30, 2756])"
      ]
     },
     "execution_count": 14,
     "metadata": {},
     "output_type": "execute_result"
    }
   ],
   "source": [
    "Tbull"
   ]
  },
  {
   "cell_type": "code",
   "execution_count": 239,
   "metadata": {},
   "outputs": [],
   "source": [
    "N1 = len(Tbull)\n",
    "N2 = len(Tbear)\n",
    "\n",
    "lmb1 = 1/np.mean(Tbull)\n",
    "lmb2 = 1/np.mean(Tbear)"
   ]
  },
  {
   "cell_type": "code",
   "execution_count": 317,
   "metadata": {},
   "outputs": [
    {
     "data": {
      "text/plain": [
       "(0.7477744807121662, 1.2071856287425151)"
      ]
     },
     "execution_count": 317,
     "metadata": {},
     "output_type": "execute_result"
    }
   ],
   "source": [
    "lmb1, lmb2"
   ]
  },
  {
   "cell_type": "code",
   "execution_count": 627,
   "metadata": {},
   "outputs": [],
   "source": [
    "rets = np.log(sp500_p['Close']/sp500_p['Close'].shift(1))\n",
    "rets.dropna(inplace=True)"
   ]
  },
  {
   "cell_type": "code",
   "execution_count": 628,
   "metadata": {},
   "outputs": [
    {
     "data": {
      "text/plain": [
       "Date\n",
       "1972-01-03   -0.004122\n",
       "1972-01-04    0.004122\n",
       "1972-01-05    0.009457\n",
       "1972-01-06    0.004357\n",
       "1972-01-07   -0.000387\n",
       "                ...   \n",
       "2020-12-24    0.003530\n",
       "2020-12-28    0.008685\n",
       "2020-12-29   -0.002230\n",
       "2020-12-30    0.001341\n",
       "2020-12-31    0.006418\n",
       "Name: Close, Length: 12359, dtype: float64"
      ]
     },
     "execution_count": 628,
     "metadata": {},
     "output_type": "execute_result"
    }
   ],
   "source": [
    "# (rets**2).sum()\n",
    "rets"
   ]
  },
  {
   "cell_type": "code",
   "execution_count": 220,
   "metadata": {},
   "outputs": [],
   "source": [
    "def annVol(df, period=252):\n",
    "#     T = df.shape[0]/period\n",
    "#     vol = np.sqrt((df**2).sum()/T)\n",
    "    vol = df.std()*np.sqrt(period)\n",
    "    return vol"
   ]
  },
  {
   "cell_type": "code",
   "execution_count": 16,
   "metadata": {},
   "outputs": [],
   "source": [
    "def annRet(df, period=252):\n",
    "    T = df.shape[0]/period\n",
    "    vol = annVol(df)\n",
    "    ret = df.sum()/T + 0.5*vol**2\n",
    "    \n",
    "    return ret"
   ]
  },
  {
   "cell_type": "code",
   "execution_count": 303,
   "metadata": {},
   "outputs": [
    {
     "data": {
      "text/plain": [
       "[(0, 58), (431, 503), (640, 1953), (2236, 2266), (2308, 5064)]"
      ]
     },
     "execution_count": 303,
     "metadata": {},
     "output_type": "execute_result"
    }
   ],
   "source": [
    "bull"
   ]
  },
  {
   "cell_type": "code",
   "execution_count": 305,
   "metadata": {},
   "outputs": [],
   "source": [
    "bullRets = []\n",
    "for x in bull:\n",
    "    bullRets.append(rets.iloc[x[0]:min(x[1], history)])\n",
    "\n",
    "\n",
    "bullRets = pd.concat(bullRets)"
   ]
  },
  {
   "cell_type": "code",
   "execution_count": 309,
   "metadata": {},
   "outputs": [],
   "source": [
    "bearRets = []\n",
    "for x in bear[:4]:\n",
    "    bearRets.append(rets.iloc[x[0]:min(x[1], history)])\n",
    "\n",
    "\n",
    "bearRets = pd.concat(bearRets)"
   ]
  },
  {
   "cell_type": "code",
   "execution_count": 312,
   "metadata": {},
   "outputs": [],
   "source": [
    "mu1 = annRet(bullRets)\n",
    "mu2 = annRet(bearRets)"
   ]
  },
  {
   "cell_type": "code",
   "execution_count": 296,
   "metadata": {},
   "outputs": [],
   "source": [
    "# Vbull = np.array(list(map(lambda x: annVol(rets.iloc[x[0]:min(x[1], history)]), bull)))\n",
    "# Vbear = np.array(list(map(lambda x: annVol(rets.iloc[x[0]:min(x[1], history)]), bear[:4])))"
   ]
  },
  {
   "cell_type": "code",
   "execution_count": 297,
   "metadata": {},
   "outputs": [],
   "source": [
    "# Rbull = np.array(list(map(lambda x: annRet(rets.iloc[x[0]:min(x[1], history)]), bull)))\n",
    "# Rbear = np.array(list(map(lambda x: annRet(rets.iloc[x[0]:min(x[1], history)]), bear[:4])))"
   ]
  },
  {
   "cell_type": "code",
   "execution_count": 318,
   "metadata": {},
   "outputs": [
    {
     "data": {
      "text/plain": [
       "(0.26333665736898626, -0.5321959918413018)"
      ]
     },
     "execution_count": 318,
     "metadata": {},
     "output_type": "execute_result"
    }
   ],
   "source": [
    "mu1, mu2"
   ]
  },
  {
   "cell_type": "code",
   "execution_count": 319,
   "metadata": {},
   "outputs": [
    {
     "data": {
      "text/plain": [
       "0.19926081583203573"
      ]
     },
     "execution_count": 319,
     "metadata": {},
     "output_type": "execute_result"
    }
   ],
   "source": [
    "sigma = annVol(rets)\n",
    "sigma"
   ]
  },
  {
   "cell_type": "code",
   "execution_count": 321,
   "metadata": {},
   "outputs": [],
   "source": [
    "def compPara(df, lmb1=None, lmb2=None, mu1=None, mu2=None, sigma=None, periods=252, threshold_bull=0.2, threshold_bear=0.2):\n",
    "    bull, bear = getTrend(df)\n",
    "    \n",
    "    n = df.shape[0]\n",
    "#     ind = 1 if bull[-1][1] == n else 0\n",
    "#     if ind == 1:\n",
    "#         bull.pop(-1)\n",
    "#     else:\n",
    "#         bear.pop(-1)\n",
    "        \n",
    "    # lambda\n",
    "    Tbull = np.array(list(map(lambda x: x[1]-x[0], bull))) / periods\n",
    "    Tbear = np.array(list(map(lambda x: x[1]-x[0], bear))) / periods\n",
    "\n",
    "    lmb1_new = 1/np.mean(Tbull)\n",
    "    lmb2_new = 1/np.mean(Tbear)\n",
    "    \n",
    "    # mu\n",
    "    bullRets = []\n",
    "    for x in bull:\n",
    "        bullRets.append(df.iloc[x[0]:x[1]])\n",
    "\n",
    "\n",
    "    bullRets = pd.concat(bullRets)\n",
    "    \n",
    "    bearRets = []\n",
    "    for x in bear:\n",
    "        bearRets.append(df.iloc[x[0]:x[1]])\n",
    "\n",
    "    bearRets = pd.concat(bearRets)\n",
    "    \n",
    "    mu1_new, mu2_new = annRet(bullRets), annRet(bearRets)\n",
    "    sigma_new = annVol(df)\n",
    "    \n",
    "    N = len(bull) + len(bear)\n",
    "    \n",
    "#     if lmb1 != None:\n",
    "#         lmb1 = update(lmb1, lmb1_new, N)\n",
    "#         lmb2 = update(lmb2, lmb2_new, N)\n",
    "#         mu1 = update(mu1, mu1_new, N)\n",
    "#         mu2 = update(mu2, mu2_new, N)\n",
    "#         sigma = update(sigma, sigma_new, N)\n",
    "#     else:\n",
    "    lmb1, lmb2, mu1, mu2, sigma = lmb1_new, lmb2_new, mu1_new, mu2_new, sigma_new\n",
    "    \n",
    "    \n",
    "    return lmb1, lmb2, mu1, mu2, sigma"
   ]
  },
  {
   "cell_type": "code",
   "execution_count": 147,
   "metadata": {},
   "outputs": [],
   "source": [
    "def update(old, new, N):\n",
    "    \n",
    "    return (1-2/N)*old + 2/N*new"
   ]
  },
  {
   "cell_type": "code",
   "execution_count": 315,
   "metadata": {},
   "outputs": [
    {
     "data": {
      "text/plain": [
       "(0.917698470502549,\n",
       " 1.1506849315068493,\n",
       " 0.2772588389341945,\n",
       " -0.3184728320729699,\n",
       " 0.14028944772081162)"
      ]
     },
     "execution_count": 315,
     "metadata": {},
     "output_type": "execute_result"
    }
   ],
   "source": [
    "lmb1, lmb2, mu1, mu2, sigma = compPara(rets['1972':'1981'])\n",
    "lmb1, lmb2, mu1, mu2, sigma"
   ]
  },
  {
   "cell_type": "code",
   "execution_count": 316,
   "metadata": {},
   "outputs": [],
   "source": [
    "rho = 0.0679\n",
    "alpha = theta = 0.001"
   ]
  },
  {
   "cell_type": "code",
   "execution_count": 633,
   "metadata": {},
   "outputs": [],
   "source": [
    "# mu1, mu2 = 0.18, -0.77\n",
    "# lmb1, lmb2 = 0.36, 2.53\n",
    "# sigma = 0.184\n",
    "# rho = 0.0679\n",
    "# alpha = theta = 0.001"
   ]
  },
  {
   "cell_type": "code",
   "execution_count": 104,
   "metadata": {},
   "outputs": [],
   "source": [
    "I = 2000\n",
    "N = rets['1982'].shape[0]"
   ]
  },
  {
   "cell_type": "code",
   "execution_count": 105,
   "metadata": {},
   "outputs": [
    {
     "data": {
      "text/plain": [
       "(2000, 253)"
      ]
     },
     "execution_count": 105,
     "metadata": {},
     "output_type": "execute_result"
    }
   ],
   "source": [
    "I, N"
   ]
  },
  {
   "cell_type": "code",
   "execution_count": 69,
   "metadata": {},
   "outputs": [],
   "source": [
    "def FDM(mu1, mu2, lmb1, lmb2, sigma, rho, alpha, theta, N, I):\n",
    "    \n",
    "    h = lambda x: 0.5*((mu1-mu2)*x*(1-x)/sigma)**2\n",
    "    k = lambda x: -(lmb1+lmb2)*x + lmb2\n",
    "    f = lambda x: (mu1-mu2)*x + mu2 - 0.5*sigma**2 - rho\n",
    "    \n",
    "    dt = 1/N\n",
    "    dp = 1/I\n",
    "    \n",
    "    Z_grid = np.zeros((I+1, N+1))\n",
    "    \n",
    "    # Boundary Condition\n",
    "    sr = np.log(1-alpha)\n",
    "    br = np.log(1+theta)\n",
    "    Z_grid[0, :] = sr\n",
    "    Z_grid[I, :] = br\n",
    "    \n",
    "    # Terminal Condition\n",
    "    Z_grid[:, N] = np.log(1-alpha)\n",
    "  \n",
    "    p = np.linspace(0, 1, I+1)\n",
    "    \n",
    "    cur_h = h(p)[1:-1]\n",
    "    cur_k = k(p)[1:-1]\n",
    "\n",
    "    for n in range(N-1, -1, -1):\n",
    "\n",
    "        # Set up coeff metric\n",
    "        indicator = (cur_k>=0)\n",
    "\n",
    "        a = -dt*cur_h/(dp**2) + (~indicator)*dt*cur_k/dp\n",
    "        b = 1 + 2*dt*cur_h/(dp**2) + (2*indicator-1)*dt*cur_k/dp\n",
    "        c = -dt*cur_h/(dp**2) - indicator*dt*cur_k/dp\n",
    "\n",
    "        mb = np.diag(b, k=0)\n",
    "        ma = np.diag(a[1:], k=-1)\n",
    "        mc = np.diag(c[:-1], k=1)\n",
    "        coeffm = ma + mb + mc\n",
    "\n",
    "        Znp1 = Z_grid[1:I, n+1]\n",
    "        Fn = dt*f(p)[1:-1]\n",
    "        Fn[0] -= a[0]*Z_grid[0, n]\n",
    "        Fn[-1] -= c[-1]*Z_grid[I, n]\n",
    "        \n",
    "        Znp1 = Znp1 + Fn\n",
    "        Zn = np.linalg.solve(coeffm, Znp1)\n",
    "        Zn[Zn<=sr] = sr\n",
    "        Zn[Zn>=br] = br\n",
    "        Z_grid[1:I, n] = Zn\n",
    "        \n",
    "    \n",
    "    return Z_grid"
   ]
  },
  {
   "cell_type": "code",
   "execution_count": 177,
   "metadata": {},
   "outputs": [],
   "source": [
    "Z = FDM(mu1, mu2, lmb1, lmb2, sigma, rho, alpha, theta, N, I)"
   ]
  },
  {
   "cell_type": "code",
   "execution_count": 178,
   "metadata": {},
   "outputs": [
    {
     "data": {
      "text/plain": [
       "0.872089946483041"
      ]
     },
     "execution_count": 178,
     "metadata": {},
     "output_type": "execute_result"
    }
   ],
   "source": [
    "p0 = (rho-mu2+0.5*sigma**2) / (mu1-mu2)\n",
    "p0"
   ]
  },
  {
   "cell_type": "code",
   "execution_count": 134,
   "metadata": {},
   "outputs": [],
   "source": [
    "def getBarrier(Z, I, N):\n",
    "    p = np.linspace(0, 1, I+1)\n",
    "    t = np.linspace(0, 1, N+1)\n",
    "\n",
    "    br = np.log(1+theta)\n",
    "    sr = np.log(1-alpha)\n",
    "\n",
    "    ps = []\n",
    "    pb = []\n",
    "\n",
    "    for i in range(Z.shape[1]-1):\n",
    "        idx1 = np.argmin(Z[:, i]<=sr)\n",
    "        idx2 = np.argmax(Z[:, i]>=br)\n",
    "\n",
    "        ps.append(p[idx1])\n",
    "        pb.append(p[idx2])\n",
    "        \n",
    "    return ps, pb"
   ]
  },
  {
   "cell_type": "code",
   "execution_count": 181,
   "metadata": {},
   "outputs": [],
   "source": [
    "ps, pb = getBarrier(Z, I, N)"
   ]
  },
  {
   "cell_type": "code",
   "execution_count": 179,
   "metadata": {},
   "outputs": [],
   "source": [
    "p = np.linspace(0, 1, I+1)\n",
    "t = np.linspace(0, 1, N+1)\n",
    "\n",
    "br = np.log(1+theta)\n",
    "sr = np.log(1-alpha)\n",
    "\n",
    "ps = []\n",
    "pb = []\n",
    "\n",
    "for i in range(Z.shape[1]-1):\n",
    "    idx1 = np.argmin(Z[:, i]<=sr)\n",
    "    idx2 = np.argmax(Z[:, i]>=br)\n",
    "    \n",
    "    ps.append(p[idx1])\n",
    "    pb.append(p[idx2])"
   ]
  },
  {
   "cell_type": "code",
   "execution_count": 182,
   "metadata": {},
   "outputs": [
    {
     "data": {
      "image/png": "[encoded data removed]",
      "text/plain": [
       "<Figure size 576x432 with 1 Axes>"
      ]
     },
     "metadata": {
      "needs_background": "light"
     },
     "output_type": "display_data"
    }
   ],
   "source": [
    "plt.figure(figsize=(8, 6))\n",
    "plt.plot(t[:-1], ps, label='SR')\n",
    "plt.plot(t[:-1], pb, label='BR')\n",
    "plt.xlabel('t', fontsize=16)\n",
    "plt.ylabel('p', fontsize=16)\n",
    "plt.xlim([0, 1])\n",
    "plt.ylim([0.7, 1])\n",
    "plt.legend()\n",
    "plt.savefig('ConditionalProb.png')"
   ]
  },
  {
   "cell_type": "code",
   "execution_count": 111,
   "metadata": {},
   "outputs": [],
   "source": [
    "pb = np.array(pb)\n",
    "ps = np.array(ps)"
   ]
  },
  {
   "cell_type": "code",
   "execution_count": 112,
   "metadata": {},
   "outputs": [
    {
     "data": {
      "text/plain": [
       "(0.921, 0.7965)"
      ]
     },
     "execution_count": 112,
     "metadata": {},
     "output_type": "execute_result"
    }
   ],
   "source": [
    "pb[0], ps[0]"
   ]
  },
  {
   "cell_type": "code",
   "execution_count": 113,
   "metadata": {},
   "outputs": [],
   "source": [
    "St = sp500_p['Close'].shift(1)\n",
    "Stp1 = sp500_p['Close']"
   ]
  },
  {
   "cell_type": "code",
   "execution_count": 114,
   "metadata": {},
   "outputs": [],
   "source": [
    "rets = np.log(Stp1/St)"
   ]
  },
  {
   "cell_type": "code",
   "execution_count": 115,
   "metadata": {},
   "outputs": [
    {
     "data": {
      "text/plain": [
       "Date\n",
       "1971-12-31         NaN\n",
       "1972-01-03   -0.004122\n",
       "1972-01-04    0.004122\n",
       "1972-01-05    0.009457\n",
       "1972-01-06    0.004357\n",
       "                ...   \n",
       "2020-12-24    0.003530\n",
       "2020-12-28    0.008685\n",
       "2020-12-29   -0.002230\n",
       "2020-12-30    0.001341\n",
       "2020-12-31    0.006418\n",
       "Name: Close, Length: 12360, dtype: float64"
      ]
     },
     "execution_count": 115,
     "metadata": {},
     "output_type": "execute_result"
    }
   ],
   "source": [
    "rets"
   ]
  },
  {
   "cell_type": "code",
   "execution_count": 116,
   "metadata": {},
   "outputs": [],
   "source": [
    "rets.dropna(inplace=True)"
   ]
  },
  {
   "cell_type": "code",
   "execution_count": 117,
   "metadata": {},
   "outputs": [
    {
     "data": {
      "text/plain": [
       "Date\n",
       "1972-01-03    0.995878\n",
       "1972-01-04    0.999983\n",
       "1972-01-05    1.009439\n",
       "1972-01-06    1.013837\n",
       "1972-01-07    1.013446\n",
       "                ...   \n",
       "1982-12-27    1.241430\n",
       "1982-12-28    1.229144\n",
       "1982-12-29    1.233241\n",
       "1982-12-30    1.225270\n",
       "1982-12-31    1.227974\n",
       "Name: Close, Length: 2778, dtype: float64"
      ]
     },
     "execution_count": 117,
     "metadata": {},
     "output_type": "execute_result"
    }
   ],
   "source": [
    "rets['1972':'1982'].add(1).cumprod()"
   ]
  },
  {
   "cell_type": "code",
   "execution_count": 37,
   "metadata": {},
   "outputs": [
    {
     "name": "stderr",
     "output_type": "stream",
     "text": [
      "<ipython-input-15-fa677af1e29e>:3: RuntimeWarning: invalid value encountered in double_scalars\n",
      "  vol = np.sqrt((df**2).sum()/T)\n",
      "<ipython-input-16-922f4bb5fd80>:4: RuntimeWarning: invalid value encountered in double_scalars\n",
      "  ret = df.sum()/T + 0.5*vol**2\n"
     ]
    },
    {
     "data": {
      "text/plain": [
       "(0.14896551724137932,\n",
       " -0.1994459833795014,\n",
       " 0.12348748804619523,\n",
       " nan,\n",
       " 0.17573645029651971)"
      ]
     },
     "execution_count": 37,
     "metadata": {},
     "output_type": "execute_result"
    }
   ],
   "source": [
    "# compPara(rets['1972':'1982'], periods=252)\n",
    "compPara(rets['2010':'2020'], periods=252)"
   ]
  },
  {
   "cell_type": "code",
   "execution_count": 29,
   "metadata": {},
   "outputs": [],
   "source": [
    "Tclass, bull, bear = getTrend(rets['1972':'1982'].add(1).cumprod(), threshold_bull, threshold_bull)"
   ]
  },
  {
   "cell_type": "code",
   "execution_count": 31,
   "metadata": {},
   "outputs": [
    {
     "data": {
      "text/plain": [
       "([(258, 694), (2249, 2679)], [(0, 258), (694, 2249)])"
      ]
     },
     "execution_count": 31,
     "metadata": {},
     "output_type": "execute_result"
    }
   ],
   "source": [
    "bear, bull"
   ]
  },
  {
   "cell_type": "code",
   "execution_count": 33,
   "metadata": {},
   "outputs": [],
   "source": [
    "periods = 252\n",
    "Tbull = np.array(list(map(lambda x: x[1]-x[0], bull))) / periods\n",
    "Tbear = np.array(list(map(lambda x: x[1]-x[0], bear))) / periods\n",
    "\n",
    "lmb1 = 1/np.mean(Tbull)\n",
    "lmb2 = 1/np.mean(Tbear)"
   ]
  },
  {
   "cell_type": "code",
   "execution_count": 35,
   "metadata": {},
   "outputs": [
    {
     "data": {
      "text/plain": [
       "0.581986143187067"
      ]
     },
     "execution_count": 35,
     "metadata": {},
     "output_type": "execute_result"
    }
   ],
   "source": [
    "lmb2"
   ]
  },
  {
   "cell_type": "code",
   "execution_count": 54,
   "metadata": {},
   "outputs": [],
   "source": [
    "mu1, mu2 = 0.143, -0.510\n",
    "lmb1, lmb2 = 0.2, 0.706\n",
    "sigma = 0.219\n",
    "rho = 0.035\n",
    "alpha = theta = 0.001"
   ]
  },
  {
   "cell_type": "code",
   "execution_count": 161,
   "metadata": {},
   "outputs": [],
   "source": [
    "def pt(rets, mu1, mu2, lmb1, lmb2, sigma, rho, alpha, theta, periods=252):\n",
    "    \n",
    "    n = rets.shape[0]\n",
    "    dt = 1/periods\n",
    "    p = np.zeros(n)\n",
    "    p[0] = (rho-mu2+0.5*sigma**2) / (mu1-mu2)\n",
    "    g = lambda x: -(lmb1+lmb2)*x + lmb2 - (mu1-mu2)*x*(1-x)*((mu1-mu2)*x+mu2-0.5*sigma**2)/sigma**2\n",
    "    \n",
    "    for i in range(n-1):\n",
    "        p[i+1] = min(max(p[i] + g(p[i])*dt + rets[i]*(mu1-mu2)*p[i]*(1-p[i])/sigma**2, 0), 1)\n",
    "        \n",
    "    return p"
   ]
  },
  {
   "cell_type": "code",
   "execution_count": 28,
   "metadata": {},
   "outputs": [
    {
     "data": {
      "text/plain": [
       "0.871333078101072"
      ]
     },
     "execution_count": 28,
     "metadata": {},
     "output_type": "execute_result"
    }
   ],
   "source": [
    "(rho-mu2+0.5*sigma**2) / (mu1-mu2)"
   ]
  },
  {
   "cell_type": "code",
   "execution_count": 392,
   "metadata": {},
   "outputs": [
    {
     "data": {
      "text/plain": [
       "0.16436790926275993"
      ]
     },
     "execution_count": 392,
     "metadata": {},
     "output_type": "execute_result"
    }
   ],
   "source": [
    "pi = 0.2\n",
    "pi + g(pi)*dt + -0.01*(mu1-mu2)*pi*(1-pi)/sigma**2"
   ]
  },
  {
   "cell_type": "code",
   "execution_count": 119,
   "metadata": {},
   "outputs": [],
   "source": [
    "p = pt(rets['1982'])"
   ]
  },
  {
   "cell_type": "code",
   "execution_count": 334,
   "metadata": {},
   "outputs": [
    {
     "data": {
      "text/plain": [
       "(2517,)"
      ]
     },
     "execution_count": 334,
     "metadata": {},
     "output_type": "execute_result"
    }
   ],
   "source": [
    "rets['2011':'2021'].shape"
   ]
  },
  {
   "cell_type": "code",
   "execution_count": 335,
   "metadata": {},
   "outputs": [
    {
     "data": {
      "text/plain": [
       "2517"
      ]
     },
     "execution_count": 335,
     "metadata": {},
     "output_type": "execute_result"
    }
   ],
   "source": [
    "len(ps)"
   ]
  },
  {
   "cell_type": "code",
   "execution_count": 219,
   "metadata": {},
   "outputs": [
    {
     "data": {
      "image/png": "[encoded data removed]",
      "text/plain": [
       "<Figure size 864x288 with 1 Axes>"
      ]
     },
     "metadata": {
      "needs_background": "light"
     },
     "output_type": "display_data"
    }
   ],
   "source": [
    "plt.figure(figsize=(12, 4))\n",
    "# plt.figure(figsize=(8, 6))\n",
    "plt.plot(ps, label='SR')\n",
    "plt.plot(pb, label='BR')\n",
    "# plt.xlabel('t', fontsize=16)\n",
    "# plt.ylabel('p', fontsize=16)\n",
    "# plt.xlim([0, 1])\n",
    "# plt.ylim([0.7, 1]);\n",
    "plt.plot(p);"
   ]
  },
  {
   "cell_type": "code",
   "execution_count": 121,
   "metadata": {},
   "outputs": [],
   "source": [
    "# tf_rets = rets['2011':'2021'].copy()\n",
    "tf_rets = rets['1982'].copy()"
   ]
  },
  {
   "cell_type": "code",
   "execution_count": 356,
   "metadata": {},
   "outputs": [
    {
     "data": {
      "text/plain": [
       "6.533438035116745e-05"
      ]
     },
     "execution_count": 356,
     "metadata": {},
     "output_type": "execute_result"
    }
   ],
   "source": [
    "daily = ((rho+1)**(1/252) - 1) # ((1+daily/252)**252 - 1)\n",
    "# ((1+rho/252)**252 - 1)\n",
    "daily"
   ]
  },
  {
   "cell_type": "code",
   "execution_count": 357,
   "metadata": {},
   "outputs": [
    {
     "data": {
      "text/html": [
       "<div>\n",
       "<style scoped>\n",
       "    .dataframe tbody tr th:only-of-type {\n",
       "        vertical-align: middle;\n",
       "    }\n",
       "\n",
       "    .dataframe tbody tr th {\n",
       "        vertical-align: top;\n",
       "    }\n",
       "\n",
       "    .dataframe thead th {\n",
       "        text-align: right;\n",
       "    }\n",
       "</style>\n",
       "<table border=\"1\" class=\"dataframe\">\n",
       "  <thead>\n",
       "    <tr style=\"text-align: right;\">\n",
       "      <th></th>\n",
       "      <th>0</th>\n",
       "    </tr>\n",
       "  </thead>\n",
       "  <tbody>\n",
       "    <tr>\n",
       "      <th>0</th>\n",
       "      <td>0.000065</td>\n",
       "    </tr>\n",
       "    <tr>\n",
       "      <th>1</th>\n",
       "      <td>0.000065</td>\n",
       "    </tr>\n",
       "    <tr>\n",
       "      <th>2</th>\n",
       "      <td>0.000065</td>\n",
       "    </tr>\n",
       "    <tr>\n",
       "      <th>3</th>\n",
       "      <td>0.000065</td>\n",
       "    </tr>\n",
       "    <tr>\n",
       "      <th>4</th>\n",
       "      <td>0.000065</td>\n",
       "    </tr>\n",
       "    <tr>\n",
       "      <th>...</th>\n",
       "      <td>...</td>\n",
       "    </tr>\n",
       "    <tr>\n",
       "      <th>247</th>\n",
       "      <td>0.000065</td>\n",
       "    </tr>\n",
       "    <tr>\n",
       "      <th>248</th>\n",
       "      <td>0.000065</td>\n",
       "    </tr>\n",
       "    <tr>\n",
       "      <th>249</th>\n",
       "      <td>0.000065</td>\n",
       "    </tr>\n",
       "    <tr>\n",
       "      <th>250</th>\n",
       "      <td>0.000065</td>\n",
       "    </tr>\n",
       "    <tr>\n",
       "      <th>251</th>\n",
       "      <td>0.000065</td>\n",
       "    </tr>\n",
       "  </tbody>\n",
       "</table>\n",
       "<p>252 rows × 1 columns</p>\n",
       "</div>"
      ],
      "text/plain": [
       "            0\n",
       "0    0.000065\n",
       "1    0.000065\n",
       "2    0.000065\n",
       "3    0.000065\n",
       "4    0.000065\n",
       "..        ...\n",
       "247  0.000065\n",
       "248  0.000065\n",
       "249  0.000065\n",
       "250  0.000065\n",
       "251  0.000065\n",
       "\n",
       "[252 rows x 1 columns]"
      ]
     },
     "execution_count": 357,
     "metadata": {},
     "output_type": "execute_result"
    }
   ],
   "source": [
    "df2 = pd.DataFrame(np.repeat(daily, 252))\n",
    "df2"
   ]
  },
  {
   "cell_type": "code",
   "execution_count": 358,
   "metadata": {},
   "outputs": [
    {
     "data": {
      "text/plain": [
       "0    0.0166\n",
       "dtype: float64"
      ]
     },
     "execution_count": 358,
     "metadata": {},
     "output_type": "execute_result"
    }
   ],
   "source": [
    "df2.add(1).prod() - 1"
   ]
  },
  {
   "cell_type": "code",
   "execution_count": 122,
   "metadata": {},
   "outputs": [],
   "source": [
    "pos = 0\n",
    "for i in range(tf_rets.shape[0]):\n",
    "    if pos == 0:\n",
    "        if p[i] >= pb[0]:\n",
    "            pos = 1\n",
    "        else:\n",
    "            tf_rets[i] = 0\n",
    "    elif pos == 1:\n",
    "        if p[i] <= ps[0]:\n",
    "            pos = 0\n",
    "            tf_rets[i] = 0\n",
    "        else:\n",
    "            pass\n",
    "        \n"
   ]
  },
  {
   "cell_type": "code",
   "execution_count": 364,
   "metadata": {},
   "outputs": [],
   "source": [
    "tf_rets[(p<pb) & (p>ps)] = 0\n",
    "tf_rets[(p<ps)] = -tf_rets[(p<ps)]\n"
   ]
  },
  {
   "cell_type": "code",
   "execution_count": 650,
   "metadata": {},
   "outputs": [
    {
     "data": {
      "image/png": "[encoded data removed]",
      "text/plain": [
       "<Figure size 864x288 with 1 Axes>"
      ]
     },
     "metadata": {
      "needs_background": "light"
     },
     "output_type": "display_data"
    }
   ],
   "source": [
    "plt.figure(figsize=(12, 4))\n",
    "plt.plot((tf_rets[:'1990']+1).cumprod(), label='TF')\n",
    "plt.plot((rets[:'1990']+1).cumprod(), label='BH')\n",
    "plt.legend()\n",
    "plt.ylabel('Cum Ret')\n",
    "plt.title('S&P500 TH vs. BH')\n",
    "plt.savefig('S&P500_TH.png')"
   ]
  },
  {
   "cell_type": "code",
   "execution_count": 191,
   "metadata": {},
   "outputs": [
    {
     "data": {
      "text/plain": [
       "Date\n",
       "1982-01-04    0.001549\n",
       "1982-01-05   -0.022160\n",
       "1982-01-06   -0.007273\n",
       "1982-01-07   -0.002100\n",
       "1982-01-08    0.005200\n",
       "                ...   \n",
       "1992-12-24    0.001684\n",
       "1992-12-28   -0.001411\n",
       "1992-12-29   -0.002668\n",
       "1992-12-30    0.001916\n",
       "1992-12-31   -0.007112\n",
       "Name: Close, Length: 2782, dtype: float64"
      ]
     },
     "execution_count": 191,
     "metadata": {},
     "output_type": "execute_result"
    }
   ],
   "source": [
    "rets['1982':'1992']"
   ]
  },
  {
   "cell_type": "code",
   "execution_count": 320,
   "metadata": {},
   "outputs": [
    {
     "data": {
      "image/png": "[encoded data removed]",
      "text/plain": [
       "<Figure size 864x288 with 1 Axes>"
      ]
     },
     "metadata": {
      "needs_background": "light"
     },
     "output_type": "display_data"
    }
   ],
   "source": [
    "plt.figure(figsize=(12, 4))\n",
    "plt.plot((r+1).cumprod(), label='TF')\n",
    "plt.plot((rets['1982':'2021']+1).cumprod().values, label='BH')\n",
    "plt.legend();"
   ]
  },
  {
   "cell_type": "code",
   "execution_count": 127,
   "metadata": {},
   "outputs": [],
   "source": [
    "rf = pd.read_csv('10-year-treasury-bond-rate-yield-chart.csv', parse_dates=[0], index_col=0)\n",
    "rf.dropna(inplace=True)"
   ]
  },
  {
   "cell_type": "code",
   "execution_count": 130,
   "metadata": {},
   "outputs": [
    {
     "data": {
      "text/plain": [
       "DatetimeIndex(['1962-02-01', '1962-03-01', '1962-04-01', '1962-05-01',\n",
       "               '1962-08-01', '1962-09-01', '1962-10-01', '1962-11-01',\n",
       "               '1962-12-01', '1962-01-15',\n",
       "               ...\n",
       "               '2021-09-06', '2021-10-06', '2021-11-06', '2021-06-14',\n",
       "               '2021-06-15', '2021-06-16', '2021-06-17', '2021-06-18',\n",
       "               '2021-06-21', '2021-06-22'],\n",
       "              dtype='datetime64[ns]', name='date', length=14872, freq=None)"
      ]
     },
     "execution_count": 130,
     "metadata": {},
     "output_type": "execute_result"
    }
   ],
   "source": []
  },
  {
   "cell_type": "code",
   "execution_count": 133,
   "metadata": {},
   "outputs": [
    {
     "data": {
      "text/plain": [
       " value    0.130055\n",
       "dtype: float64"
      ]
     },
     "execution_count": 133,
     "metadata": {},
     "output_type": "execute_result"
    }
   ],
   "source": [
    "rf.loc['1982'].mean()/100"
   ]
  },
  {
   "cell_type": "code",
   "execution_count": null,
   "metadata": {},
   "outputs": [],
   "source": []
  },
  {
   "cell_type": "code",
   "execution_count": 137,
   "metadata": {},
   "outputs": [],
   "source": [
    "def getPerformance(df, p, ps, pb):\n",
    "    tf_rets = df.reset_index(drop=True).copy()\n",
    "    pos = 0\n",
    "    for i in range(tf_rets.shape[0]):\n",
    "        if pos == 0:\n",
    "            if p[i] >= pb[i]:\n",
    "                pos = 1\n",
    "            else:\n",
    "                tf_rets[i] = 0\n",
    "        elif pos == 1:\n",
    "            if p[i] <= ps[i]:\n",
    "                pos = 0\n",
    "                tf_rets[i] = 0\n",
    "            else:\n",
    "                pass\n",
    "            \n",
    "    return tf_rets"
   ]
  },
  {
   "cell_type": "code",
   "execution_count": 322,
   "metadata": {
    "scrolled": true
   },
   "outputs": [
    {
     "name": "stdout",
     "output_type": "stream",
     "text": [
      "1982\n",
      "0.2772588389341945 -0.3184728320729699 0.917698470502549 1.1506849315068493 0.14028944772081162\n",
      "1983\n",
      "0.26493544169803074 -0.25280658117968247 0.8644939965694682 0.7987321711568939 0.14945445059405807\n",
      "1984\n",
      "0.264059222198385 -0.2672331832237379 0.8689655172413792 0.9921259842519685 0.14694980998706084\n",
      "1985\n",
      "0.3729672689798498 -0.24076780561279948 1.161290322580645 1.357271095152603 0.13567204894282348\n",
      "1986\n",
      "0.34690395376207606 -0.218490011284401 1.1527904849039339 1.177570093457944 0.13062845622222197\n",
      "1987\n",
      "0.3694630538532051 -0.2371492148907754 1.106476399560922 1.2612612612612613 0.1341783641836205\n",
      "1988\n",
      "0.2476239970510435 -0.2776720154510154 0.3906976744186046 1.502982107355865 0.16884812672088184\n",
      "1989\n",
      "0.26278787280549026 -0.3878573860923278 0.43800695249130944 1.423728813559322 0.1728121298733931\n",
      "1990\n",
      "0.2774067086266908 -0.3268506368167413 0.3492723492723493 1.3475935828877006 0.1744228441057685\n",
      "1991\n",
      "0.23004327498510285 -0.3321746565675227 0.390899689762151 1.0588235294117647 0.17397253605574461\n",
      "1992\n",
      "0.22816652563220197 -0.6271357667687251 0.2608695652173913 2.6341463414634148 0.17458726618548268\n",
      "1993\n",
      "0.19569652520205344 -1.028010455313228 0.27495908346972175 3.789473684210526 0.16766719808326802\n",
      "1994\n",
      "0.20020903601855533 -1.028010455313228 0.3189873417721519 3.789473684210526 0.16456887197380243\n",
      "1995\n",
      "0.23758922401637905 -1.042790136886378 0.38037735849056603 5.6 0.1626355945111553\n",
      "1996\n",
      "0.233095238217791 -1.028010455313228 0.4688372093023256 3.789473684210526 0.1613711478561831\n",
      "1997\n",
      "0.25966496612625595 -1.028010455313228 0.6131386861313869 3.789473684210526 0.15892287906908803\n",
      "1998\n",
      "0.16715944174956318 -0.7970190359679192 0.39375000000000004 4.064516129032258 0.13118794416876275\n",
      "1999\n",
      "0.18475988471324223 -0.8056060795760988 0.21455938697318008 4.2 0.13561413736960884\n",
      "2000\n",
      "0.18359037054895197 -0.33602018938195194 0.12844036697247707 1.9764705882352942 0.1411003689758578\n",
      "2001\n",
      "0.20657736109239763 -0.9389002635472908 0.2221242838254738 8.0 0.14929995243284896\n",
      "2002\n",
      "0.21207590443117175 -0.4739537341640045 0.3682415976619582 1.894736842105263 0.15771731469306738\n",
      "2003\n",
      "0.2692341848715157 -0.557939974559674 0.6670195870831127 2.6387434554973823 0.17526413236819657\n",
      "2004\n",
      "0.29729805003769183 -0.5567821951577401 0.7682926829268294 2.2144112478031635 0.18136904244410923\n",
      "2005\n",
      "0.3531754492274531 -0.5567821951577401 0.9077809798270895 2.2144112478031635 0.1820691381893737\n",
      "2006\n",
      "0.3657434216452935 -0.5567821951577401 1.109154929577465 2.2144112478031635 0.183249995481199\n",
      "2007\n",
      "0.416338031106289 -0.5567821951577401 1.4285714285714286 2.2144112478031635 0.18224662300658317\n",
      "2008\n",
      "0.4689571993345127 -0.5567821951577401 2.0031796502384736 2.2144112478031635 0.18017363615055232\n",
      "2009\n",
      "0.15308327233139404 -0.23037547299657968 0.32163369495851946 0.39560439560439564 0.21274104294006613\n",
      "2010\n",
      "0.16994332817466018 -0.3492652997932405 0.391304347826087 0.7419038272816486 0.22233757379682512\n",
      "2011\n",
      "0.17423502134047444 -0.45999430559120913 0.578423871461362 1.0106951871657754 0.21854664069662702\n",
      "2012\n",
      "0.17259270113470937 -0.598794746232731 0.586046511627907 1.4622823984526112 0.22035289448340925\n",
      "2013\n",
      "0.17994560658786837 -0.6505351668062949 0.4256756756756757 2.0377358490566038 0.20844803327026973\n",
      "2014\n",
      "0.20673153090018725 -0.608166799898744 0.4976958525345623 1.7459584295612007 0.20439875398363685\n",
      "2015\n",
      "0.2539373310431273 -0.5434100622800173 0.633696563285834 1.9881656804733727 0.20455900302084015\n",
      "2016\n",
      "0.20653643610469044 -0.6794944874948959 1.0632911392405064 1.5507692307692307 0.20782302029889882\n",
      "2017\n",
      "0.289131882936381 -0.6794944874948959 2.2600896860986546 1.5507692307692307 0.20949796844196966\n",
      "2018\n",
      "0.39178858631335317 -0.6679420809159275 0.8826619964973731 2.016 0.20442637569071997\n",
      "2019\n",
      "0.19049874261437078 -0.7203133136085493 0.21970357454228423 3.3157894736842106 0.16658575931637104\n",
      "2020\n",
      "0.20420350437852416 -0.39197658871833857 0.5436893203883495 2.488888888888889 0.14796085158984662\n"
     ]
    }
   ],
   "source": [
    "start = 1982\n",
    "end = 2021\n",
    "rho = 0.01\n",
    "alpha = theta = 0.001\n",
    "I = 2000\n",
    "\n",
    "tf_rets_comb = []\n",
    "lmb1, lmb2, mu1, mu2, sigma = compPara(rets[str(start-10):str(start-1)])\n",
    "for year in range(start, end):\n",
    "    strYear = str(year)\n",
    "    print(strYear)\n",
    "#     rho = rf.loc[strYear].mean()[0]/100\n",
    "    lmb1, lmb2, mu1, mu2, sigma = compPara(rets[str(year-10):str(year-1)], lmb1, lmb2, mu1, mu2, sigma)\n",
    "    \n",
    "    print(mu1, mu2, lmb1, lmb2, sigma)\n",
    "    N = rets[strYear].shape[0]\n",
    "    Z = FDM(mu1, mu2, lmb1, lmb2, sigma, rho, alpha, theta, N, I)\n",
    "    \n",
    "    ps, pb = getBarrier(Z, I, N)\n",
    "    \n",
    "    p = pt(rets[strYear], mu1, mu2, lmb1, lmb2, sigma, rho, alpha, theta)\n",
    "    \n",
    "    tf_rets = getPerformance(rets[strYear], p, ps, pb)\n",
    "    tf_rets_comb.append(tf_rets)\n",
    "    "
   ]
  },
  {
   "cell_type": "code",
   "execution_count": 318,
   "metadata": {},
   "outputs": [],
   "source": [
    "r = pd.concat(tf_rets_comb, ignore_index=True)"
   ]
  },
  {
   "cell_type": "code",
   "execution_count": 319,
   "metadata": {},
   "outputs": [
    {
     "data": {
      "text/plain": [
       "[<matplotlib.lines.Line2D at 0x1c1d8f8b850>]"
      ]
     },
     "execution_count": 319,
     "metadata": {},
     "output_type": "execute_result"
    },
    {
     "data": {
      "image/png": "[encoded data removed]",
      "text/plain": [
       "<Figure size 432x288 with 1 Axes>"
      ]
     },
     "metadata": {
      "needs_background": "light"
     },
     "output_type": "display_data"
    }
   ],
   "source": [
    "plt.figure()\n",
    "plt.plot(r.add(1).cumprod())"
   ]
  },
  {
   "cell_type": "code",
   "execution_count": 378,
   "metadata": {},
   "outputs": [],
   "source": [
    "from itertools import groupby"
   ]
  },
  {
   "cell_type": "code",
   "execution_count": 399,
   "metadata": {},
   "outputs": [],
   "source": [
    "bear = []\n",
    "bull = []\n",
    "i = 0\n",
    "for k, g in groupby(decision):\n",
    "    \n",
    "    n = len(list(g))\n",
    "    if k == 0:\n",
    "        bear.append((i, i+n))\n",
    "    elif k == 1:\n",
    "        bull.append((i, i+n))\n",
    "    i = i + n\n",
    "#     print(k, len(list(g)))\n",
    "#     print(i)"
   ]
  },
  {
   "cell_type": "code",
   "execution_count": 401,
   "metadata": {},
   "outputs": [
    {
     "data": {
      "image/png": "[encoded data removed]",
      "text/plain": [
       "<Figure size 864x576 with 1 Axes>"
      ]
     },
     "metadata": {
      "needs_background": "light"
     },
     "output_type": "display_data"
    }
   ],
   "source": [
    "plt.figure(figsize=(12, 8))\n",
    "# plt.plot((rets['2011':'2021']+1).cumprod().values, 'r')\n",
    "for x in bear:\n",
    "    plt.plot(np.arange(x[0], x[1]), (rets['2011':'2021']+1).cumprod().iloc[x[0]:x[1]], 'g--')\n",
    "\n",
    "for x in bull:\n",
    "    plt.plot(np.arange(x[0], x[1]), (rets['2011':'2021']+1).cumprod().iloc[x[0]:x[1]], 'r')\n",
    "\n",
    "plt.xlabel('Date', fontsize=16)\n",
    "plt.ylabel('S&P500 Index', fontsize=16)\n",
    "plt.title('Market States', fontsize=22)\n",
    "# plt.legend(['Bull', 'Bear'], fontsize=16)\n",
    "plt.savefig('BullBear.png')"
   ]
  },
  {
   "cell_type": "code",
   "execution_count": 366,
   "metadata": {},
   "outputs": [
    {
     "data": {
      "text/plain": [
       "<AxesSubplot:xlabel='Date'>"
      ]
     },
     "execution_count": 366,
     "metadata": {},
     "output_type": "execute_result"
    },
    {
     "data": {
      "image/png": "[encoded data removed]",
      "text/plain": [
       "<Figure size 432x288 with 1 Axes>"
      ]
     },
     "metadata": {
      "needs_background": "light"
     },
     "output_type": "display_data"
    }
   ],
   "source": [
    "sp500_p['Close'].plot()"
   ]
  },
  {
   "cell_type": "code",
   "execution_count": 76,
   "metadata": {},
   "outputs": [
    {
     "data": {
      "text/html": [
       "<div>\n",
       "<style scoped>\n",
       "    .dataframe tbody tr th:only-of-type {\n",
       "        vertical-align: middle;\n",
       "    }\n",
       "\n",
       "    .dataframe tbody tr th {\n",
       "        vertical-align: top;\n",
       "    }\n",
       "\n",
       "    .dataframe thead th {\n",
       "        text-align: right;\n",
       "    }\n",
       "</style>\n",
       "<table border=\"1\" class=\"dataframe\">\n",
       "  <thead>\n",
       "    <tr style=\"text-align: right;\">\n",
       "      <th></th>\n",
       "      <th>volume</th>\n",
       "      <th>high</th>\n",
       "      <th>low</th>\n",
       "      <th>close</th>\n",
       "      <th>vwap</th>\n",
       "    </tr>\n",
       "    <tr>\n",
       "      <th>time</th>\n",
       "      <th></th>\n",
       "      <th></th>\n",
       "      <th></th>\n",
       "      <th></th>\n",
       "      <th></th>\n",
       "    </tr>\n",
       "  </thead>\n",
       "  <tbody>\n",
       "    <tr>\n",
       "      <th>2020-11-02 03:00:00</th>\n",
       "      <td>10100</td>\n",
       "      <td>49.75</td>\n",
       "      <td>49.50</td>\n",
       "      <td>49.75</td>\n",
       "      <td>49.563918</td>\n",
       "    </tr>\n",
       "    <tr>\n",
       "      <th>2020-11-02 03:01:00</th>\n",
       "      <td>30500</td>\n",
       "      <td>49.75</td>\n",
       "      <td>49.50</td>\n",
       "      <td>49.50</td>\n",
       "      <td>49.585695</td>\n",
       "    </tr>\n",
       "    <tr>\n",
       "      <th>2020-11-02 03:02:00</th>\n",
       "      <td>100</td>\n",
       "      <td>49.75</td>\n",
       "      <td>49.75</td>\n",
       "      <td>49.75</td>\n",
       "      <td>49.590331</td>\n",
       "    </tr>\n",
       "    <tr>\n",
       "      <th>2020-11-02 03:03:00</th>\n",
       "      <td>100</td>\n",
       "      <td>49.50</td>\n",
       "      <td>49.50</td>\n",
       "      <td>49.50</td>\n",
       "      <td>49.590262</td>\n",
       "    </tr>\n",
       "    <tr>\n",
       "      <th>2020-11-02 03:04:00</th>\n",
       "      <td>33500</td>\n",
       "      <td>49.75</td>\n",
       "      <td>49.50</td>\n",
       "      <td>49.75</td>\n",
       "      <td>49.579516</td>\n",
       "    </tr>\n",
       "    <tr>\n",
       "      <th>...</th>\n",
       "      <td>...</td>\n",
       "      <td>...</td>\n",
       "      <td>...</td>\n",
       "      <td>...</td>\n",
       "      <td>...</td>\n",
       "    </tr>\n",
       "    <tr>\n",
       "      <th>2021-06-09 09:25:00</th>\n",
       "      <td>500</td>\n",
       "      <td>75.00</td>\n",
       "      <td>74.75</td>\n",
       "      <td>74.75</td>\n",
       "      <td>74.618766</td>\n",
       "    </tr>\n",
       "    <tr>\n",
       "      <th>2021-06-09 09:26:00</th>\n",
       "      <td>113100</td>\n",
       "      <td>74.75</td>\n",
       "      <td>74.75</td>\n",
       "      <td>74.75</td>\n",
       "      <td>74.621928</td>\n",
       "    </tr>\n",
       "    <tr>\n",
       "      <th>2021-06-09 09:27:00</th>\n",
       "      <td>900</td>\n",
       "      <td>74.75</td>\n",
       "      <td>74.75</td>\n",
       "      <td>74.75</td>\n",
       "      <td>74.623198</td>\n",
       "    </tr>\n",
       "    <tr>\n",
       "      <th>2021-06-09 09:28:00</th>\n",
       "      <td>3500</td>\n",
       "      <td>74.75</td>\n",
       "      <td>74.75</td>\n",
       "      <td>74.75</td>\n",
       "      <td>74.623293</td>\n",
       "    </tr>\n",
       "    <tr>\n",
       "      <th>2021-06-09 09:29:00</th>\n",
       "      <td>14400</td>\n",
       "      <td>74.75</td>\n",
       "      <td>74.50</td>\n",
       "      <td>74.75</td>\n",
       "      <td>74.623516</td>\n",
       "    </tr>\n",
       "  </tbody>\n",
       "</table>\n",
       "<p>36713 rows × 5 columns</p>\n",
       "</div>"
      ],
      "text/plain": [
       "                     volume   high    low  close       vwap\n",
       "time                                                       \n",
       "2020-11-02 03:00:00   10100  49.75  49.50  49.75  49.563918\n",
       "2020-11-02 03:01:00   30500  49.75  49.50  49.50  49.585695\n",
       "2020-11-02 03:02:00     100  49.75  49.75  49.75  49.590331\n",
       "2020-11-02 03:03:00     100  49.50  49.50  49.50  49.590262\n",
       "2020-11-02 03:04:00   33500  49.75  49.50  49.75  49.579516\n",
       "...                     ...    ...    ...    ...        ...\n",
       "2021-06-09 09:25:00     500  75.00  74.75  74.75  74.618766\n",
       "2021-06-09 09:26:00  113100  74.75  74.75  74.75  74.621928\n",
       "2021-06-09 09:27:00     900  74.75  74.75  74.75  74.623198\n",
       "2021-06-09 09:28:00    3500  74.75  74.75  74.75  74.623293\n",
       "2021-06-09 09:29:00   14400  74.75  74.50  74.75  74.623516\n",
       "\n",
       "[36713 rows x 5 columns]"
      ]
     },
     "execution_count": 76,
     "metadata": {},
     "output_type": "execute_result"
    }
   ],
   "source": [
    "wholeBars = pd.read_csv('1minBars_SAWAD.csv', index_col=0, parse_dates=[0])\n",
    "wholeBars"
   ]
  },
  {
   "cell_type": "code",
   "execution_count": 133,
   "metadata": {},
   "outputs": [
    {
     "data": {
      "text/plain": [
       "[<matplotlib.lines.Line2D at 0x21520722ca0>]"
      ]
     },
     "execution_count": 133,
     "metadata": {},
     "output_type": "execute_result"
    },
    {
     "data": {
      "image/png": "[encoded data removed]",
      "text/plain": [
       "<Figure size 432x288 with 1 Axes>"
      ]
     },
     "metadata": {
      "needs_background": "light"
     },
     "output_type": "display_data"
    }
   ],
   "source": [
    "plt.figure()\n",
    "plt.plot(wholeBars.loc['2021-03':, 'close'].values)"
   ]
  },
  {
   "cell_type": "code",
   "execution_count": 446,
   "metadata": {},
   "outputs": [],
   "source": [
    "wholeBars['rets'] = np.log(wholeBars['close']/wholeBars['close'].shift(1))"
   ]
  },
  {
   "cell_type": "code",
   "execution_count": 447,
   "metadata": {},
   "outputs": [],
   "source": [
    "wholeBars.dropna(inplace=True)"
   ]
  },
  {
   "cell_type": "code",
   "execution_count": 665,
   "metadata": {},
   "outputs": [],
   "source": [
    "Tclass, bull, bear = getTrend(pd.DataFrame(wholeBars['close'].values), 0.035, 0.035)"
   ]
  },
  {
   "cell_type": "code",
   "execution_count": 449,
   "metadata": {},
   "outputs": [
    {
     "data": {
      "image/png": "[encoded data removed]",
      "text/plain": [
       "<Figure size 864x576 with 1 Axes>"
      ]
     },
     "metadata": {
      "needs_background": "light"
     },
     "output_type": "display_data"
    }
   ],
   "source": [
    "plt.figure(figsize=(12, 8))\n",
    "plt.plot(wholeBars['close'].values, 'r')\n",
    "for x in bear:\n",
    "    plt.plot(np.arange(x[0], x[1]), wholeBars['close'].iloc[x[0]:x[1]], 'g')\n",
    "    \n",
    "plt.xlabel('Date', fontsize=16)\n",
    "plt.ylabel('S&P500 Index', fontsize=16)\n",
    "plt.title('Market States', fontsize=22)\n",
    "plt.legend(['Bull', 'Bear'], fontsize=16)\n",
    "plt.savefig('BullBear.png')"
   ]
  },
  {
   "cell_type": "code",
   "execution_count": 664,
   "metadata": {},
   "outputs": [],
   "source": [
    "history = 20000"
   ]
  },
  {
   "cell_type": "code",
   "execution_count": 506,
   "metadata": {},
   "outputs": [],
   "source": [
    "Tbull = np.array(list(map(lambda x: min(x[1], history)-x[0], bull)))\n",
    "Tbear = np.array(list(map(lambda x: min(x[1], history)-x[0], bear)))\n",
    "\n",
    "Tbull = Tbull[Tbull>0]/(271*5)\n",
    "Tbear = Tbear[Tbear>0]/(271*5)"
   ]
  },
  {
   "cell_type": "code",
   "execution_count": 507,
   "metadata": {},
   "outputs": [],
   "source": [
    "N1 = len(Tbull)\n",
    "N2 = len(Tbear)\n",
    "\n",
    "lmb1 = 1/np.mean(Tbull)\n",
    "lmb2 = 1/np.mean(Tbear)"
   ]
  },
  {
   "cell_type": "code",
   "execution_count": 508,
   "metadata": {},
   "outputs": [
    {
     "data": {
      "text/plain": [
       "(0.9909580480021274, 1.882467352042234)"
      ]
     },
     "execution_count": 508,
     "metadata": {},
     "output_type": "execute_result"
    }
   ],
   "source": [
    "lmb1, lmb2"
   ]
  },
  {
   "cell_type": "code",
   "execution_count": 656,
   "metadata": {},
   "outputs": [],
   "source": [
    "rets = wholeBars['rets'].copy()"
   ]
  },
  {
   "cell_type": "code",
   "execution_count": 657,
   "metadata": {},
   "outputs": [],
   "source": [
    "rets.reset_index(drop=True, inplace=True)"
   ]
  },
  {
   "cell_type": "code",
   "execution_count": 658,
   "metadata": {},
   "outputs": [],
   "source": [
    "bullRets = []\n",
    "for x in bull:\n",
    "    bullRets.append(rets.iloc[x[0]:min(x[1], history)])\n",
    "\n",
    "\n",
    "bullRets = pd.concat(bullRets)"
   ]
  },
  {
   "cell_type": "code",
   "execution_count": 659,
   "metadata": {},
   "outputs": [],
   "source": [
    "bearRets = []\n",
    "for x in bear:\n",
    "    bearRets.append(rets.iloc[x[0]:min(x[1], history)])\n",
    "\n",
    "\n",
    "bearRets = pd.concat(bearRets)"
   ]
  },
  {
   "cell_type": "code",
   "execution_count": 660,
   "metadata": {},
   "outputs": [],
   "source": [
    "mu1 = annRet(bullRets, 271*5)\n",
    "mu2 = annRet(bearRets, 271*5)"
   ]
  },
  {
   "cell_type": "code",
   "execution_count": 661,
   "metadata": {},
   "outputs": [
    {
     "data": {
      "text/plain": [
       "(0.04196254995032938, 0.022646397266463725)"
      ]
     },
     "execution_count": 661,
     "metadata": {},
     "output_type": "execute_result"
    }
   ],
   "source": [
    "mu1, mu2"
   ]
  },
  {
   "cell_type": "code",
   "execution_count": 662,
   "metadata": {},
   "outputs": [
    {
     "data": {
      "text/plain": [
       "0.09365876076318519"
      ]
     },
     "execution_count": 662,
     "metadata": {},
     "output_type": "execute_result"
    }
   ],
   "source": [
    "sigma = annVol(rets[:history], 271*5)\n",
    "sigma"
   ]
  },
  {
   "cell_type": "code",
   "execution_count": 663,
   "metadata": {},
   "outputs": [],
   "source": [
    "# rho = (0.015+1)**(1/52)-1\n",
    "alpha = theta = 0.0035\n",
    "rho = 0"
   ]
  },
  {
   "cell_type": "code",
   "execution_count": 475,
   "metadata": {},
   "outputs": [
    {
     "data": {
      "text/plain": [
       "(16711,)"
      ]
     },
     "execution_count": 475,
     "metadata": {},
     "output_type": "execute_result"
    }
   ],
   "source": [
    "rets[history:].shape"
   ]
  },
  {
   "cell_type": "code",
   "execution_count": 510,
   "metadata": {},
   "outputs": [],
   "source": [
    "N = 16711\n",
    "I = 1000"
   ]
  },
  {
   "cell_type": "code",
   "execution_count": 565,
   "metadata": {},
   "outputs": [],
   "source": [
    "Z = FDM(mu1, mu2, lmb1, lmb2, sigma, rho, alpha, theta, N, I)"
   ]
  },
  {
   "cell_type": "code",
   "execution_count": 566,
   "metadata": {},
   "outputs": [],
   "source": [
    "br = np.log(1+theta)\n",
    "sr = np.log(1-alpha)\n",
    "\n",
    "ps = []\n",
    "pb = []\n",
    "\n",
    "for i in range(Z.shape[1]-1):\n",
    "    idx1 = np.argmin(Z[:, i]<=sr)\n",
    "    idx2 = np.argmax(Z[:, i]>=br)\n",
    "    \n",
    "    ps.append(p[idx1])\n",
    "    pb.append(p[idx2])"
   ]
  },
  {
   "cell_type": "code",
   "execution_count": 567,
   "metadata": {},
   "outputs": [],
   "source": [
    "p = np.linspace(0, 1, I+1)\n",
    "t = np.linspace(0, 1, N+1)"
   ]
  },
  {
   "cell_type": "code",
   "execution_count": 568,
   "metadata": {},
   "outputs": [
    {
     "data": {
      "image/png": "[encoded data removed]",
      "text/plain": [
       "<Figure size 576x432 with 1 Axes>"
      ]
     },
     "metadata": {
      "needs_background": "light"
     },
     "output_type": "display_data"
    }
   ],
   "source": [
    "plt.figure(figsize=(8, 6))\n",
    "plt.plot(t[:-1], ps, label='SR')\n",
    "plt.plot(t[:-1], pb, label='BR')\n",
    "plt.xlabel('t', fontsize=16)\n",
    "plt.ylabel('p', fontsize=16)\n",
    "plt.xlim([0, 1])\n",
    "plt.ylim([0, 1]);"
   ]
  },
  {
   "cell_type": "code",
   "execution_count": 624,
   "metadata": {},
   "outputs": [],
   "source": [
    "p = pt(rets[history:].reset_index(drop=True), 271*5)"
   ]
  },
  {
   "cell_type": "code",
   "execution_count": 625,
   "metadata": {},
   "outputs": [
    {
     "data": {
      "text/plain": [
       "array([0.89981895, 0.89964018, 0.89946191, ..., 0.89350182, 0.89334131,\n",
       "       0.89318128])"
      ]
     },
     "execution_count": 625,
     "metadata": {},
     "output_type": "execute_result"
    }
   ],
   "source": [
    "p"
   ]
  },
  {
   "cell_type": "code",
   "execution_count": 626,
   "metadata": {},
   "outputs": [
    {
     "data": {
      "image/png": "[encoded data removed]",
      "text/plain": [
       "<Figure size 864x288 with 1 Axes>"
      ]
     },
     "metadata": {
      "needs_background": "light"
     },
     "output_type": "display_data"
    }
   ],
   "source": [
    "plt.figure(figsize=(12, 4))\n",
    "# plt.figure(figsize=(8, 6))\n",
    "# plt.plot(ps, label='SR')\n",
    "# plt.plot(pb, label='BR')\n",
    "plt.xlabel('t', fontsize=16)\n",
    "plt.ylabel('p', fontsize=16)\n",
    "# plt.xlim([0, 1])\n",
    "# plt.ylim([0.7, 1]);\n",
    "plt.plot(p)\n",
    "plt.title('Bull Market Conditional Probability', fontsize=22)\n",
    "plt.savefig('SAWAD_bullProd.png')"
   ]
  },
  {
   "cell_type": "code",
   "execution_count": 594,
   "metadata": {},
   "outputs": [],
   "source": [
    "tf_rets = rets[history:].reset_index(drop=True).copy()"
   ]
  },
  {
   "cell_type": "code",
   "execution_count": 595,
   "metadata": {},
   "outputs": [],
   "source": [
    "pos = 0\n",
    "for i in range(tf_rets.shape[0]):\n",
    "    if pos == 0:\n",
    "        if p[i] >= 0.73:\n",
    "            pos = 1\n",
    "        else:\n",
    "            tf_rets[i] = 0\n",
    "    elif pos == 1:\n",
    "        if p[i] <= 0.6:\n",
    "            pos = 0\n",
    "            tf_rets[i] = 0\n",
    "        else:\n",
    "            pass\n",
    "        \n"
   ]
  },
  {
   "cell_type": "code",
   "execution_count": 622,
   "metadata": {},
   "outputs": [
    {
     "data": {
      "image/png": "[encoded data removed]",
      "text/plain": [
       "<Figure size 864x288 with 1 Axes>"
      ]
     },
     "metadata": {
      "needs_background": "light"
     },
     "output_type": "display_data"
    }
   ],
   "source": [
    "plt.figure(figsize=(12, 4))\n",
    "plt.plot((tf_rets+1).cumprod(), label='TF')\n",
    "plt.plot((rets[history:]+1).cumprod().reset_index(drop=True), label='BH')\n",
    "plt.legend()\n",
    "plt.savefig('SAWAD_TF.png')"
   ]
  },
  {
   "cell_type": "code",
   "execution_count": null,
   "metadata": {},
   "outputs": [],
   "source": []
  }
 ],
 "metadata": {
  "kernelspec": {
   "display_name": "Python 3",
   "language": "python",
   "name": "python3"
  },
  "language_info": {
   "codemirror_mode": {
    "name": "ipython",
    "version": 3
   },
   "file_extension": ".py",
   "mimetype": "text/x-python",
   "name": "python",
   "nbconvert_exporter": "python",
   "pygments_lexer": "ipython3",
   "version": "3.8.5"
  }
 },
 "nbformat": 4,
 "nbformat_minor": 4
}
